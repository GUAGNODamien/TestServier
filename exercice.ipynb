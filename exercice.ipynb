{
 "cells": [
  {
   "cell_type": "code",
   "execution_count": 1,
   "metadata": {},
   "outputs": [],
   "source": [
    "#library\n",
    "import csv\n",
    "import pandas\n",
    "import numpy as np\n",
    "import json\n",
    "from collections import Counter"
   ]
  },
  {
   "cell_type": "code",
   "execution_count": 2,
   "metadata": {},
   "outputs": [],
   "source": [
    "#import data\n",
    "drugs = pandas.read_csv(r\"drugs.csv\")\n",
    "clinical_trials = pandas.read_csv(r\"clinical_trials.csv\")\n",
    "pubmed = pandas.read_csv(r\"pubmed.csv\")\n"
   ]
  },
  {
   "cell_type": "code",
   "execution_count": 3,
   "metadata": {},
   "outputs": [],
   "source": [
    "\n",
    "def listWhereTheWordAppearInColFromDataFrame(word,dataFrame,nomCol):\n",
    "    endList=[]\n",
    "    for i in range (np.size(dataFrame[nomCol])):\n",
    "        if word.upper() in dataFrame[nomCol][i].upper():\n",
    "            listAdd=dataFrame.loc[i][1:np.size(pubmed.loc[i])]\n",
    "            endList+=[list(listAdd.values)]\n",
    "    return (endList)"
   ]
  },
  {
   "cell_type": "code",
   "execution_count": 4,
   "metadata": {},
   "outputs": [],
   "source": [
    "#data pipeline\n",
    "essentiel={}\n",
    "essentiel['Drug']=[]\n",
    "for nomDrug in drugs[\"drug\"]:\n",
    "    ligne=[nomDrug]\n",
    "    listMentionPubMed=listWhereTheWordAppearInColFromDataFrame(nomDrug,pubmed,\"title\")\n",
    "    listInScientificTitle=listWhereTheWordAppearInColFromDataFrame(nomDrug,clinical_trials,\"scientific_title\")\n",
    "    essentiel['Drug'].append({\n",
    "        'name':nomDrug,\n",
    "        'mentionPubMed':listMentionPubMed,\n",
    "        'publicationScientifique':listInScientificTitle\n",
    "    })\n"
   ]
  },
  {
   "cell_type": "code",
   "execution_count": 5,
   "metadata": {},
   "outputs": [],
   "source": [
    "# to json\n",
    "with open('data pipeline.json', 'w') as outfile:\n",
    "    json.dump(essentiel, outfile,indent=4)"
   ]
  },
  {
   "cell_type": "code",
   "execution_count": 6,
   "metadata": {},
   "outputs": [],
   "source": [
    "# Traitement ad-hoc"
   ]
  },
  {
   "cell_type": "code",
   "execution_count": 7,
   "metadata": {},
   "outputs": [],
   "source": [
    "#import data\n",
    "with open('data pipeline.json') as json_file:\n",
    "    data = json.load(json_file)"
   ]
  },
  {
   "cell_type": "code",
   "execution_count": 8,
   "metadata": {},
   "outputs": [
    {
     "data": {
      "text/plain": [
       "'Psychopharmacology'"
      ]
     },
     "execution_count": 8,
     "metadata": {},
     "output_type": "execute_result"
    }
   ],
   "source": [
    "\n",
    "a=data['Drug']\n",
    "journauxByDrug=[]\n",
    "for i in a:\n",
    "    journauxForOneDrug=[]\n",
    "    for j in (i['mentionPubMed']):\n",
    "        if j[2] not in journauxForOneDrug:\n",
    "            journauxForOneDrug.append(j[2])\n",
    "    for j in (i['publicationScientifique']):\n",
    "        if j[2] not in journauxForOneDrug:\n",
    "            journauxForOneDrug.append(j[2])\n",
    "    journauxByDrug+=journauxForOneDrug\n",
    "\n",
    "#class by number of itération\n",
    "(Counter(journauxByDrug)).most_common()[0][0]\n"
   ]
  },
  {
   "cell_type": "code",
   "execution_count": null,
   "metadata": {},
   "outputs": [],
   "source": []
  }
 ],
 "metadata": {
  "kernelspec": {
   "display_name": "Python 3",
   "language": "python",
   "name": "python3"
  },
  "language_info": {
   "codemirror_mode": {
    "name": "ipython",
    "version": 3
   },
   "file_extension": ".py",
   "mimetype": "text/x-python",
   "name": "python",
   "nbconvert_exporter": "python",
   "pygments_lexer": "ipython3",
   "version": "3.7.0"
  }
 },
 "nbformat": 4,
 "nbformat_minor": 2
}
